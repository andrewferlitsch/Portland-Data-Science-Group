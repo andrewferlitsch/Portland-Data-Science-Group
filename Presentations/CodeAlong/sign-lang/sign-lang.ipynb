{
 "cells": [
  {
   "cell_type": "markdown",
   "metadata": {},
   "source": [
    "# Sign Language Code Along - Tensorflow and OpenCV (DNN, Dropout, Hyperparameters)\n",
    "\n",
    "This Code Along will introduces using Tensorflow with the OpenCV library for computer vision. In this code along, we will:\n",
    "\n",
    "- Extract/Load JPEG images using OpenCV\n",
    "- Design Deep Neural Network (DNN) with a dropout layer.\n",
    "- Run DNN with different hyperparameter settings"
   ]
  },
  {
   "cell_type": "markdown",
   "metadata": {},
   "source": [
    "## Housekeeping (Download/Install)\n",
    "If you haven't already, you will need to install Tensorflow Jupyter notebook, OpenCV for Python, as well as Python. I recommend Python 3.\n",
    "\n",
    "For those on Windows 10, you should install Python 3.5 (not 3.6). The Google support blogs still show people continuing to have incompatibility problems with TensorFlow and Python 3.6.\n",
    "\n",
    "If you already have Python 3.6 loaded, try importing tensorflow first and see if the import is successfully, before deciding to downgrade to 3.5\n",
    "You should also be using pip version 9. If you are using an older version, you may need to upgrade.\n",
    "\n",
    "### Python 3.5\n",
    "\n",
    "You can download Python 3.5 here. Goto the bottom of the page and select the download for your OS.\n",
    "\n",
    "https://www.python.org/downloads/release/python-350/\n",
    "\n",
    "If you are not sure which version you have, do the following:\n",
    "\n",
    "C:> python --version\n",
    "\n",
    "<span style='color:red; font-weight:bold'>NOTE: If you have Python 2 and 3 installed, then wherever I have python on the command line, replace with python3</span>\n",
    "\n",
    "### PIP \n",
    "\n",
    "To upgrade to the latest verson of PIP (version 9 as of this writing), do the following (below is an example on Windows command prompt).\n",
    "\n",
    "C:> python -m pip install --upgrade pip \n",
    "\n",
    "If you are not sure which version you have, do the following:\n",
    "\n",
    "C:> pip --version\n",
    "\n",
    "### Tensorflow\n",
    "\n",
    "You want to install Tensorflow 1.6 for your platform. Your platform is a combination of your version of python (e.g., cp35) and your OS/Architecture (e.g., cp35m-win_amd64). \n",
    "\n",
    "You can find the wheels (.whl) install files for Tensorflow 1.6 here:\n",
    "\n",
    "https://pypi.python.org/pypi/tensorflow\n",
    "\n",
    "On my laptop (Win10), I am using:\n",
    "\n",
    "tensorflow-1.6.0rc1-cp35-cp35m-win_amd64.whl\n",
    "\n",
    "### Jupyter Notebook\n",
    "\n",
    "You can install Juypter Notebook as follows:\n",
    "\n",
    "C:> python -m pip install jupyter\n",
    "\n",
    "\n",
    "### OpenCV\n",
    "\n",
    "You can install OpenCV for Python as follows:\n",
    "\n",
    "C:> pip install opencv-python\n",
    "\n",
    "<b style='color:red'>NOTE: Do not follow old Python 2.7 instructions (2012). You will download 750Mb and do a bunch of steps.</b>\n",
    "\n",
    "\n",
    "### Putting it Together\n",
    "\n",
    "Let's see if everything is installed correctly:\n",
    "\n",
    "    1. Start python interpreter (REPL) on the command line\n",
    "    2. Type in import tensorflow\n",
    "    3. Type in import cv2\n",
    "    4. There should be no errors in loading the libraries.\n",
    "    \n",
    "### Launch Jupyter Notebook\n",
    "\n",
    "From a command terminal, enter:\n",
    "\n",
    "C:> jupyter notebook\n",
    "\n",
    "This will launch a Jupyter notebook in a web browser (whatever is your default web browser). \n",
    "\n",
    "#### Create a Notebook\n",
    "\n",
    "Under the toolbar, select:\n",
    "\n",
    "File-> New Notebook -> Python 3\n",
    "\n",
    "A notebook will appear which will look similar to this.\n",
    "\n",
    "#### Import Tensorflow and OpenCV\n",
    "\n",
    "In the first input cell, we will import the tensorflow and opencv libraries to verify they are properly installed.\n",
    "\n",
    "Python execution of the cell should complete without any errors. You may get deprecated warnings, just ignore them. Let me try it below:\n"
   ]
  },
  {
   "cell_type": "code",
   "execution_count": 1,
   "metadata": {},
   "outputs": [
    {
     "name": "stderr",
     "output_type": "stream",
     "text": [
      "c:\\users\\user\\appdata\\local\\programs\\python\\python35\\lib\\site-packages\\h5py\\__init__.py:36: FutureWarning: Conversion of the second argument of issubdtype from `float` to `np.floating` is deprecated. In future, it will be treated as `np.float64 == np.dtype(float).type`.\n",
      "  from ._conv import register_converters as _register_converters\n"
     ]
    }
   ],
   "source": [
    "# Importing Tensorflow\n",
    "import tensorflow as tf\n",
    "# Importing OpenCV\n",
    "import cv2"
   ]
  },
  {
   "cell_type": "markdown",
   "metadata": {},
   "source": [
    "We will need a few more libraries, so let's load them now."
   ]
  },
  {
   "cell_type": "code",
   "execution_count": 2,
   "metadata": {},
   "outputs": [],
   "source": [
    "import os\n",
    "import numpy as np"
   ]
  },
  {
   "cell_type": "markdown",
   "metadata": {},
   "source": [
    "## Data Source\n",
    "\n",
    "Github Public Repository - https://github.com/EvilPort2/Sign-Language\n",
    "\n",
    "<i>\"The first thing I did was, I created 10 gesture samples using OpenCV. For each gesture I captured 1200 images which were 50x50 pixels. All theses images were in grayscale which is stored in the gestures/ folder. The gestures/0/ folder contains 1200 blank images which signify \"none\" gesture. Also I realised that keeping this category increased my model's accuracy to 99% from a laughable 82%.\"</i>\n",
    "\n",
    "Let's go to the downloaded images and see what's there. Let's first check that we are in the correct directory."
   ]
  },
  {
   "cell_type": "code",
   "execution_count": 3,
   "metadata": {},
   "outputs": [
    {
     "data": {
      "text/plain": [
       "'C:\\\\Users\\\\User\\\\Desktop\\\\AITraining\\\\Portland-Data-Science-Group\\\\Presentations\\\\CodeAlong\\\\sign-lang'"
      ]
     },
     "execution_count": 3,
     "metadata": {},
     "output_type": "execute_result"
    }
   ],
   "source": [
    "pwd"
   ]
  },
  {
   "cell_type": "markdown",
   "metadata": {},
   "source": [
    "You will see under the gestures directory, we have folders 0 through 26. Folder 0 is the none image, while folders 1 through 26 have images for the letters A..Z, respectively.\n",
    "\n",
    "Let's look under one of the folders (i.e., folder 1 for the letter A):\n",
    "\n",
    "<img src='gestures.jpg'/>"
   ]
  },
  {
   "cell_type": "markdown",
   "metadata": {},
   "source": [
    "Let's now use openCV's method imread to read in a JPEG image and convert it to an uncompressed numpy 2D matrix of pixels."
   ]
  },
  {
   "cell_type": "code",
   "execution_count": 4,
   "metadata": {},
   "outputs": [],
   "source": [
    "image = cv2.imread(\"gestures/1/1.jpg\", 0)"
   ]
  },
  {
   "cell_type": "markdown",
   "metadata": {},
   "source": [
    "Let's verify that the image is a numpy matrix as expected. It's type should be numpy.ndarray and it's shape should be 50 x 50 pixels."
   ]
  },
  {
   "cell_type": "code",
   "execution_count": 5,
   "metadata": {},
   "outputs": [
    {
     "name": "stdout",
     "output_type": "stream",
     "text": [
      "<class 'numpy.ndarray'>\n",
      "(50, 50)\n"
     ]
    }
   ],
   "source": [
    "print( type(image) )\n",
    "print( image.shape )"
   ]
  },
  {
   "cell_type": "markdown",
   "metadata": {},
   "source": [
    "Let's now look at the contents of the image. As you can see, it is a matrix of values between 0 and 255 (uint8)."
   ]
  },
  {
   "cell_type": "code",
   "execution_count": 6,
   "metadata": {},
   "outputs": [
    {
     "data": {
      "text/plain": [
       "array([[0, 0, 0, ..., 0, 0, 0],\n",
       "       [0, 0, 0, ..., 0, 0, 0],\n",
       "       [0, 0, 0, ..., 0, 0, 0],\n",
       "       ...,\n",
       "       [0, 0, 0, ..., 0, 0, 0],\n",
       "       [0, 0, 0, ..., 0, 0, 0],\n",
       "       [0, 0, 0, ..., 0, 0, 0]], dtype=uint8)"
      ]
     },
     "execution_count": 6,
     "metadata": {},
     "output_type": "execute_result"
    }
   ],
   "source": [
    "image"
   ]
  },
  {
   "cell_type": "markdown",
   "metadata": {},
   "source": [
    "### Plotting an Image\n",
    "\n",
    "Let's plot one of the images in the training set. To do so, we will use the plotting functions of the matplotlib package. Let's start by importing the package."
   ]
  },
  {
   "cell_type": "code",
   "execution_count": 7,
   "metadata": {},
   "outputs": [],
   "source": [
    "import matplotlib.pyplot as plt\n",
    "\n",
    "# This line is specific to python notebooks (not python). \n",
    "# It causes plots to automatically be rendered (displayed) without issuing a show command.\n",
    "%matplotlib inline  "
   ]
  },
  {
   "cell_type": "code",
   "execution_count": 8,
   "metadata": {},
   "outputs": [
    {
     "data": {
      "text/plain": [
       "<matplotlib.image.AxesImage at 0x1fc7a847b00>"
      ]
     },
     "execution_count": 8,
     "metadata": {},
     "output_type": "execute_result"
    },
    {
     "data": {
      "image/png": "[encoded data removed]",
      "text/plain": [
       "<matplotlib.figure.Figure at 0x1fc77eabe48>"
      ]
     },
     "metadata": {},
     "output_type": "display_data"
    }
   ],
   "source": [
    "# Let's plot it now\n",
    "plt.imshow( image )"
   ]
  },
  {
   "cell_type": "markdown",
   "metadata": {},
   "source": [
    "### Loading the Dataset\n",
    "\n",
    "The function below traverses the gestures folder for each subfolder (letter in the alphabet) and loads the images and corresponding label (letter), which is obtained from the subfolder name."
   ]
  },
  {
   "cell_type": "code",
   "execution_count": 20,
   "metadata": {},
   "outputs": [],
   "source": [
    "def load_dataset( verbose = False ):\n",
    "    \"\"\" Load the Sign Language dataset for the Alphabet \"\"\"\n",
    "    images = []\n",
    "    labels = []\n",
    "    # Process each subfolder (0..26) in the gestures folder\n",
    "    for subfolder in os.listdir(\"gestures\"):\n",
    "        if verbose == True: print(\"Loading Subfolder\", subfolder)\n",
    "        # There are 1200 images per letter\n",
    "        for i in range(1200):\n",
    "            # Read each image in\n",
    "            image = cv2.imread(\"gestures/\"+ subfolder + \"/\" + str(i+1) + \".jpg\", 0)\n",
    "            # if bad image, skip\n",
    "            if np.any(image == None):\n",
    "                continue\n",
    "            # add image to image list\n",
    "            images.append( image )\n",
    "            # add corresponding label to label list\n",
    "            labels.append( subfolder )\n",
    "    # return the list of images and corresponding labels\n",
    "    return images, labels"
   ]
  },
  {
   "cell_type": "markdown",
   "metadata": {},
   "source": [
    "Let's now load the images. We will set the parameter verbose to True to see the progress since this will take awhile."
   ]
  },
  {
   "cell_type": "code",
   "execution_count": 10,
   "metadata": {},
   "outputs": [
    {
     "name": "stdout",
     "output_type": "stream",
     "text": [
      "Loading Subfolder 0\n",
      "Loading Subfolder 1\n",
      "Loading Subfolder 10\n",
      "Loading Subfolder 11\n",
      "Loading Subfolder 12\n",
      "Loading Subfolder 13\n",
      "Loading Subfolder 14\n",
      "Loading Subfolder 15\n",
      "Loading Subfolder 16\n",
      "Loading Subfolder 17\n",
      "Loading Subfolder 18\n",
      "Loading Subfolder 19\n",
      "Loading Subfolder 2\n",
      "Loading Subfolder 20\n",
      "Loading Subfolder 21\n",
      "Loading Subfolder 22\n",
      "Loading Subfolder 23\n",
      "Loading Subfolder 24\n",
      "Loading Subfolder 25\n",
      "Loading Subfolder 26\n",
      "Loading Subfolder 3\n",
      "Loading Subfolder 4\n",
      "Loading Subfolder 5\n",
      "Loading Subfolder 6\n",
      "Loading Subfolder 7\n",
      "Loading Subfolder 8\n",
      "Loading Subfolder 9\n",
      "Time to Load Images:  70.56759142875671\n"
     ]
    }
   ],
   "source": [
    "import time\n",
    "start = time.time()\n",
    "images, labels = load_dataset( True )\n",
    "print( \"Time to Load Images: \", time.time() - start )"
   ]
  },
  {
   "cell_type": "markdown",
   "metadata": {},
   "source": [
    "Let's see we got what we expected. There are 27 folders (26 letters and None) with 1200 images each. We should have a list of 32,400 (27 * 1200) numpy 2D matrixes (aka the images)."
   ]
  },
  {
   "cell_type": "code",
   "execution_count": 13,
   "metadata": {},
   "outputs": [
    {
     "name": "stdout",
     "output_type": "stream",
     "text": [
      "32400\n"
     ]
    }
   ],
   "source": [
    "print( len(images) )"
   ]
  },
  {
   "cell_type": "markdown",
   "metadata": {},
   "source": [
    "Let's now verify that the images (and labels) we read in by plotting one of the images and it's corresponding label."
   ]
  },
  {
   "cell_type": "code",
   "execution_count": 19,
   "metadata": {},
   "outputs": [
    {
     "name": "stdout",
     "output_type": "stream",
     "text": [
      "y = 10\n"
     ]
    },
    {
     "data": {
      "image/png": "[encoded data removed]",
      "text/plain": [
       "<matplotlib.figure.Figure at 0x1fc7fbfdd68>"
      ]
     },
     "metadata": {},
     "output_type": "display_data"
    }
   ],
   "source": [
    "# Let's plot it now\n",
    "index = 2407\n",
    "plt.imshow( images[index] )\n",
    "print (\"y = \" + str(labels[index]))"
   ]
  },
  {
   "cell_type": "markdown",
   "metadata": {},
   "source": [
    "### Flatten and Normalize the Image Data\n",
    "\n",
    "Now we will flatten the data (reshape so all rows follow each other sequential in a single vector) and normalize the pixel values between 0 and 1."
   ]
  },
  {
   "cell_type": "code",
   "execution_count": 21,
   "metadata": {},
   "outputs": [
    {
     "ename": "AttributeError",
     "evalue": "'list' object has no attribute 'reshape'",
     "output_type": "error",
     "traceback": [
      "\u001b[1;31m---------------------------------------------------------------------------\u001b[0m",
      "\u001b[1;31mAttributeError\u001b[0m                            Traceback (most recent call last)",
      "\u001b[1;32m<ipython-input-21-415d39a3b037>\u001b[0m in \u001b[0;36m<module>\u001b[1;34m()\u001b[0m\n\u001b[0;32m      1\u001b[0m \u001b[1;31m# Flatten the Image Data\u001b[0m\u001b[1;33m\u001b[0m\u001b[1;33m\u001b[0m\u001b[0m\n\u001b[1;32m----> 2\u001b[1;33m \u001b[0mimages_flatten\u001b[0m \u001b[1;33m=\u001b[0m \u001b[0mimages\u001b[0m\u001b[1;33m.\u001b[0m\u001b[0mreshape\u001b[0m\u001b[1;33m(\u001b[0m\u001b[0mimages\u001b[0m\u001b[1;33m.\u001b[0m\u001b[0mshape\u001b[0m\u001b[1;33m[\u001b[0m\u001b[1;36m0\u001b[0m\u001b[1;33m]\u001b[0m\u001b[1;33m,\u001b[0m \u001b[1;33m-\u001b[0m\u001b[1;36m1\u001b[0m\u001b[1;33m)\u001b[0m\u001b[1;33m.\u001b[0m\u001b[0mT\u001b[0m\u001b[1;33m\u001b[0m\u001b[0m\n\u001b[0m\u001b[0;32m      3\u001b[0m \u001b[1;33m\u001b[0m\u001b[0m\n\u001b[0;32m      4\u001b[0m \u001b[1;31m# Normalize the Pixel Values between 0 and 1\u001b[0m\u001b[1;33m\u001b[0m\u001b[1;33m\u001b[0m\u001b[0m\n\u001b[0;32m      5\u001b[0m \u001b[0mimages\u001b[0m \u001b[1;33m=\u001b[0m \u001b[0mimages_flatten\u001b[0m \u001b[1;33m/\u001b[0m \u001b[1;36m255.0\u001b[0m\u001b[1;33m\u001b[0m\u001b[0m\n",
      "\u001b[1;31mAttributeError\u001b[0m: 'list' object has no attribute 'reshape'"
     ]
    }
   ],
   "source": [
    "# Flatten the Image Data\n",
    "images_flatten = images.reshape(images.shape[0], -1).T\n",
    "\n",
    "# Normalize the Pixel Values between 0 and 1\n",
    "images = images_flatten / 255.0"
   ]
  },
  {
   "cell_type": "code",
   "execution_count": null,
   "metadata": {},
   "outputs": [],
   "source": []
  }
 ],
 "metadata": {
  "kernelspec": {
   "display_name": "Python 3",
   "language": "python",
   "name": "python3"
  },
  "language_info": {
   "codemirror_mode": {
    "name": "ipython",
    "version": 3
   },
   "file_extension": ".py",
   "mimetype": "text/x-python",
   "name": "python",
   "nbconvert_exporter": "python",
   "pygments_lexer": "ipython3",
   "version": "3.5.0"
  }
 },
 "nbformat": 4,
 "nbformat_minor": 2
}
