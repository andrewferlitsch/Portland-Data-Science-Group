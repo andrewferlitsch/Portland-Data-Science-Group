{
 "cells": [
  {
   "cell_type": "markdown",
   "metadata": {},
   "source": [
    "# Sign Language Code Along - Tensorflow and OpenCV (DNN, Dropout, Hyperparameters)\n",
    "\n",
    "This Code Along will introduces using Tensorflow with the OpenCV library for computer vision. In this code along, we will:\n",
    "\n",
    "- Extract/Load JPEG images using OpenCV\n",
    "- Design Deep Neural Network (DNN) with a dropout layer.\n",
    "- Run DNN with different hyperparameter settings"
   ]
  },
  {
   "cell_type": "markdown",
   "metadata": {},
   "source": [
    "## Housekeeping (Download/Install)\n",
    "If you haven't already, you will need to install Tensorflow Jupyter notebook, OpenCV for Python, as well as Python. I recommend Python 3.\n",
    "\n",
    "For those on Windows 10, you should install Python 3.5 (not 3.6). The Google support blogs still show people continuing to have incompatibility problems with TensorFlow and Python 3.6.\n",
    "\n",
    "If you already have Python 3.6 loaded, try importing tensorflow first and see if the import is successfully, before deciding to downgrade to 3.5\n",
    "You should also be using pip version 9. If you are using an older version, you may need to upgrade.\n",
    "\n",
    "### Python 3.5\n",
    "\n",
    "You can download Python 3.5 here. Goto the bottom of the page and select the download for your OS.\n",
    "\n",
    "https://www.python.org/downloads/release/python-350/\n",
    "\n",
    "If you are not sure which version you have, do the following:\n",
    "\n",
    "C:> python --version\n",
    "\n",
    "<span style='color:red; font-weight:bold'>NOTE: If you have Python 2 and 3 installed, then wherever I have python on the command line, replace with python3</span>\n",
    "\n",
    "### PIP \n",
    "\n",
    "To upgrade to the latest verson of PIP (version 9 as of this writing), do the following (below is an example on Windows command prompt).\n",
    "\n",
    "C:> python -m pip install --upgrade pip \n",
    "\n",
    "If you are not sure which version you have, do the following:\n",
    "\n",
    "C:> pip --version\n",
    "\n",
    "### Tensorflow\n",
    "\n",
    "You want to install Tensorflow 1.6 for your platform. Your platform is a combination of your version of python (e.g., cp35) and your OS/Architecture (e.g., cp35m-win_amd64). \n",
    "\n",
    "You can find the wheels (.whl) install files for Tensorflow 1.6 here:\n",
    "\n",
    "https://pypi.python.org/pypi/tensorflow\n",
    "\n",
    "On my laptop (Win10), I am using:\n",
    "\n",
    "tensorflow-1.6.0rc1-cp35-cp35m-win_amd64.whl\n",
    "\n",
    "### Jupyter Notebook\n",
    "\n",
    "You can install Juypter Notebook as follows:\n",
    "\n",
    "C:> python -m pip install jupyter\n",
    "\n",
    "\n",
    "### OpenCV\n",
    "\n",
    "You can install OpenCV for Python as follows:\n",
    "\n",
    "C:> pip install opencv-python\n",
    "\n",
    "<b style='color:red'>NOTE: Do not follow old Python 2.7 instructions (2012). You will download 750Mb and do a bunch of steps.</b>\n",
    "\n",
    "\n",
    "### Putting it Together\n",
    "\n",
    "Let's see if everything is installed correctly:\n",
    "\n",
    "    1. Start python interpreter (REPL) on the command line\n",
    "    2. Type in import tensorflow\n",
    "    3. Type in import cv2\n",
    "    4. There should be no errors in loading the libraries.\n",
    "    \n",
    "### Launch Jupyter Notebook\n",
    "\n",
    "From a command terminal, enter:\n",
    "\n",
    "C:> jupyter notebook\n",
    "\n",
    "This will launch a Jupyter notebook in a web browser (whatever is your default web browser). \n",
    "\n",
    "#### Create a Notebook\n",
    "\n",
    "Under the toolbar, select:\n",
    "\n",
    "File-> New Notebook -> Python 3\n",
    "\n",
    "A notebook will appear which will look similar to this.\n",
    "\n",
    "#### Import Tensorflow and OpenCV\n",
    "\n",
    "In the first input cell, we will import the tensorflow and opencv libraries to verify they are properly installed.\n",
    "\n",
    "Python execution of the cell should complete without any errors. You may get deprecated warnings, just ignore them. Let me try it below:\n"
   ]
  },
  {
   "cell_type": "code",
   "execution_count": 3,
   "metadata": {},
   "outputs": [],
   "source": [
    "# Importing Tensorflow\n",
    "import tensorflow as tf\n",
    "# Importing OpenCV\n",
    "import cv2"
   ]
  },
  {
   "cell_type": "markdown",
   "metadata": {},
   "source": [
    "We will need a few more libraries, so let's load them now."
   ]
  },
  {
   "cell_type": "code",
   "execution_count": 1,
   "metadata": {},
   "outputs": [],
   "source": [
    "import os\n",
    "import numpy as np"
   ]
  },
  {
   "cell_type": "markdown",
   "metadata": {},
   "source": [
    "## Data Source\n",
    "\n",
    "Github Public Repository - https://github.com/EvilPort2/Sign-Language\n",
    "\n",
    "<i>\"The first thing I did was, I created 10 gesture samples using OpenCV. For each gesture I captured 1200 images which were 50x50 pixels. All theses images were in grayscale which is stored in the gestures/ folder. The gestures/0/ folder contains 1200 blank images which signify \"none\" gesture. Also I realised that keeping this category increased my model's accuracy to 99% from a laughable 82%.\"</i>\n",
    "\n",
    "Let's go to the downloaded images and see what's there. Let's first check that we are in the correct directory."
   ]
  },
  {
   "cell_type": "code",
   "execution_count": 2,
   "metadata": {},
   "outputs": [
    {
     "data": {
      "text/plain": [
       "'C:\\\\Users\\\\User\\\\Desktop\\\\AITraining\\\\Sign-Language'"
      ]
     },
     "execution_count": 2,
     "metadata": {},
     "output_type": "execute_result"
    }
   ],
   "source": [
    "pwd"
   ]
  },
  {
   "cell_type": "code",
   "execution_count": 4,
   "metadata": {},
   "outputs": [
    {
     "ename": "SyntaxError",
     "evalue": "invalid syntax (<ipython-input-4-0ef1cb4f626e>, line 1)",
     "output_type": "error",
     "traceback": [
      "\u001b[1;36m  File \u001b[1;32m\"<ipython-input-4-0ef1cb4f626e>\"\u001b[1;36m, line \u001b[1;32m1\u001b[0m\n\u001b[1;33m    cd gestures\u001b[0m\n\u001b[1;37m              ^\u001b[0m\n\u001b[1;31mSyntaxError\u001b[0m\u001b[1;31m:\u001b[0m invalid syntax\n"
     ]
    }
   ],
   "source": [
    "cd gestures\n",
    "dir"
   ]
  },
  {
   "cell_type": "code",
   "execution_count": 6,
   "metadata": {},
   "outputs": [],
   "source": [
    "i=1\n",
    "gest_folder = \"gestures\"\n",
    "image = cv2.imread(gest_folder+\"/1/\"+str(i+1)+\".jpg\", 0)"
   ]
  },
  {
   "cell_type": "code",
   "execution_count": 7,
   "metadata": {},
   "outputs": [
    {
     "data": {
      "text/plain": [
       "numpy.ndarray"
      ]
     },
     "execution_count": 7,
     "metadata": {},
     "output_type": "execute_result"
    }
   ],
   "source": [
    "type(image)"
   ]
  },
  {
   "cell_type": "code",
   "execution_count": 8,
   "metadata": {},
   "outputs": [
    {
     "data": {
      "text/plain": [
       "(50, 50)"
      ]
     },
     "execution_count": 8,
     "metadata": {},
     "output_type": "execute_result"
    }
   ],
   "source": [
    "image.shape"
   ]
  },
  {
   "cell_type": "code",
   "execution_count": 9,
   "metadata": {},
   "outputs": [
    {
     "data": {
      "text/plain": [
       "array([[0, 0, 0, ..., 0, 0, 0],\n",
       "       [0, 0, 0, ..., 0, 0, 0],\n",
       "       [0, 0, 0, ..., 0, 0, 0],\n",
       "       ...,\n",
       "       [0, 0, 0, ..., 0, 0, 0],\n",
       "       [0, 0, 0, ..., 0, 0, 0],\n",
       "       [0, 0, 0, ..., 0, 0, 0]], dtype=uint8)"
      ]
     },
     "execution_count": 9,
     "metadata": {},
     "output_type": "execute_result"
    }
   ],
   "source": [
    "img"
   ]
  },
  {
   "cell_type": "markdown",
   "metadata": {},
   "source": [
    "### Plotting an Image\n",
    "\n",
    "Let's plot one of the images in the training set. To do so, we will use the plotting functions of the matplotlib package. Let's start by importing the package."
   ]
  },
  {
   "cell_type": "code",
   "execution_count": 10,
   "metadata": {},
   "outputs": [],
   "source": [
    "import matplotlib.pyplot as plt\n",
    "\n",
    "# This line is specific to python notebooks (not python). \n",
    "# It causes plots to automatically be rendered (displayed) without issuing a show command.\n",
    "%matplotlib inline  "
   ]
  },
  {
   "cell_type": "code",
   "execution_count": 11,
   "metadata": {},
   "outputs": [
    {
     "data": {
      "text/plain": [
       "<matplotlib.image.AxesImage at 0x1ee388806a0>"
      ]
     },
     "execution_count": 11,
     "metadata": {},
     "output_type": "execute_result"
    },
    {
     "data": {
      "image/png": "[encoded data removed]",
      "text/plain": [
       "<matplotlib.figure.Figure at 0x1ee35f129e8>"
      ]
     },
     "metadata": {},
     "output_type": "display_data"
    }
   ],
   "source": [
    "\n",
    "# Let's plot it now\n",
    "plt.imshow( image )"
   ]
  },
  {
   "cell_type": "code",
   "execution_count": null,
   "metadata": {},
   "outputs": [],
   "source": []
  }
 ],
 "metadata": {
  "kernelspec": {
   "display_name": "Python 3",
   "language": "python",
   "name": "python3"
  },
  "language_info": {
   "codemirror_mode": {
    "name": "ipython",
    "version": 3
   },
   "file_extension": ".py",
   "mimetype": "text/x-python",
   "name": "python",
   "nbconvert_exporter": "python",
   "pygments_lexer": "ipython3",
   "version": "3.5.0"
  }
 },
 "nbformat": 4,
 "nbformat_minor": 2
}
